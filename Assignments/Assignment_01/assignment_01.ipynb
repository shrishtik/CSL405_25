{
 "cells": [
  {
   "cell_type": "markdown",
   "id": "d1c193e0-8b8b-4479-8d6d-1174d2075bf4",
   "metadata": {},
   "source": [
    "### Assignment No.01"
   ]
  },
  {
   "cell_type": "code",
   "execution_count": 3,
   "id": "cd7da96a-fd5d-4b1c-b4b8-1e1eb0cf8b2e",
   "metadata": {},
   "outputs": [
    {
     "name": "stdout",
     "output_type": "stream",
     "text": [
      "\n",
      "Menu:\n",
      "1. Add a new product\n",
      "2. Update product stock\n",
      "3. View product details\n",
      "4. Exit\n"
     ]
    },
    {
     "name": "stdin",
     "output_type": "stream",
     "text": [
      "Enter your choice:  1\n",
      "Enter product name:  laptop\n",
      "Enter product price:  999.99\n",
      "Enter product stock:  10\n"
     ]
    },
    {
     "name": "stdout",
     "output_type": "stream",
     "text": [
      "Product added successfully!\n",
      "\n",
      "Menu:\n",
      "1. Add a new product\n",
      "2. Update product stock\n",
      "3. View product details\n",
      "4. Exit\n"
     ]
    },
    {
     "name": "stdin",
     "output_type": "stream",
     "text": [
      "Enter your choice:  2\n",
      "Enter product name to update:  Laptop\n"
     ]
    },
    {
     "name": "stdout",
     "output_type": "stream",
     "text": [
      "Product not found.\n",
      "\n",
      "Menu:\n",
      "1. Add a new product\n",
      "2. Update product stock\n",
      "3. View product details\n",
      "4. Exit\n"
     ]
    },
    {
     "name": "stdin",
     "output_type": "stream",
     "text": [
      "Enter your choice:  3\n",
      "Enter product name:  laptop\n"
     ]
    },
    {
     "name": "stdout",
     "output_type": "stream",
     "text": [
      "Product: laptop, Price: $999.99, Stock: 10\n",
      "\n",
      "Menu:\n",
      "1. Add a new product\n",
      "2. Update product stock\n",
      "3. View product details\n",
      "4. Exit\n"
     ]
    },
    {
     "name": "stdin",
     "output_type": "stream",
     "text": [
      "Enter your choice:  2\n",
      "Enter product name to update:  laptop\n",
      "Enter quantity to add/remove:  -2\n"
     ]
    },
    {
     "name": "stdout",
     "output_type": "stream",
     "text": [
      "Stock updated successfully! New stock: 8\n",
      "\n",
      "Menu:\n",
      "1. Add a new product\n",
      "2. Update product stock\n",
      "3. View product details\n",
      "4. Exit\n"
     ]
    },
    {
     "name": "stdin",
     "output_type": "stream",
     "text": [
      "Enter your choice:  4\n"
     ]
    },
    {
     "name": "stdout",
     "output_type": "stream",
     "text": [
      "Exiting the system. Goodbye!\n"
     ]
    }
   ],
   "source": [
    "class Product:\n",
    "    def __init__(self, name, price, stock):\n",
    "        self.name = name\n",
    "        self.price = price\n",
    "        self.stock = stock\n",
    "\n",
    "    def update_stock(self, quantity):\n",
    "        self.stock += quantity\n",
    "        print(f\"Stock updated successfully! New stock: {self.stock}\")\n",
    "\n",
    "    def __str__(self):\n",
    "        return f\"Product: {self.name}, Price: ${self.price:.2f}, Stock: {self.stock}\"\n",
    "\n",
    "\n",
    "class Store:\n",
    "    def __init__(self):\n",
    "        self.products = {}\n",
    "\n",
    "    def add_product(self):\n",
    "        name = input(\"Enter product name: \")\n",
    "        price = float(input(\"Enter product price: \"))\n",
    "        stock = int(input(\"Enter product stock: \"))\n",
    "        self.products[name] = Product(name, price, stock)\n",
    "        print(\"Product added successfully!\")\n",
    "\n",
    "    def update_product_stock(self):\n",
    "        name = input(\"Enter product name to update: \")\n",
    "        if name in self.products:\n",
    "            quantity = int(input(\"Enter quantity to add/remove: \"))\n",
    "            self.products[name].update_stock(quantity)\n",
    "        else:\n",
    "            print(\"Product not found.\")\n",
    "\n",
    "    def view_product_details(self):\n",
    "        name = input(\"Enter product name: \")\n",
    "        if name in self.products:\n",
    "            print(self.products[name])\n",
    "        else:\n",
    "            print(\"Product not found.\")\n",
    "\n",
    "    def run(self):\n",
    "        while True:\n",
    "            print(\"\\nMenu:\")\n",
    "            print(\"1. Add a new product\")\n",
    "            print(\"2. Update product stock\")\n",
    "            print(\"3. View product details\")\n",
    "            print(\"4. Exit\")\n",
    "            choice = input(\"Enter your choice: \")\n",
    "\n",
    "            if choice == '1':\n",
    "                self.add_product()\n",
    "            elif choice == '2':\n",
    "                self.update_product_stock()\n",
    "            elif choice == '3':\n",
    "                self.view_product_details()\n",
    "            elif choice == '4':\n",
    "                print(\"Exiting the system. Goodbye!\")\n",
    "                break\n",
    "            else:\n",
    "                print(\"Invalid choice. Please try again.\")\n",
    "\n",
    "store = Store()\n",
    "store.run()\n"
   ]
  }
 ],
 "metadata": {
  "kernelspec": {
   "display_name": "Python 3 (ipykernel)",
   "language": "python",
   "name": "python3"
  },
  "language_info": {
   "codemirror_mode": {
    "name": "ipython",
    "version": 3
   },
   "file_extension": ".py",
   "mimetype": "text/x-python",
   "name": "python",
   "nbconvert_exporter": "python",
   "pygments_lexer": "ipython3",
   "version": "3.12.6"
  }
 },
 "nbformat": 4,
 "nbformat_minor": 5
}
