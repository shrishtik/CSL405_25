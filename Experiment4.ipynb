{
  "metadata": {
    "kernelspec": {
      "name": "python",
      "display_name": "Python (Pyodide)",
      "language": "python"
    },
    "language_info": {
      "codemirror_mode": {
        "name": "python",
        "version": 3
      },
      "file_extension": ".py",
      "mimetype": "text/x-python",
      "name": "python",
      "nbconvert_exporter": "python",
      "pygments_lexer": "ipython3",
      "version": "3.8"
    }
  },
  "nbformat_minor": 5,
  "nbformat": 4,
  "cells": [
    {
      "id": "3a3a05ec-eabd-425c-b07d-c6684b244a93",
      "cell_type": "markdown",
      "source": "#### Shrishti kewat 25",
      "metadata": {}
    },
    {
      "id": "17228735-80e1-4095-9785-2c089755a503",
      "cell_type": "code",
      "source": "from pathlib import Path\n\n# Get all files in the current directory\nfiles = [f for f in Path('.').iterdir() if f.is_file()]\n\nprint(\"Files in the current directory:\")\nfor file in files:\n    print(file.name)\n",
      "metadata": {
        "trusted": true
      },
      "outputs": [
        {
          "name": "stdout",
          "output_type": "stream",
          "text": "Files in the current directory:\nUntitled.ipynb\nIntro.ipynb\nLorenz.ipynb\nsqlite.ipynb\n"
        }
      ],
      "execution_count": 1
    },
    {
      "id": "1cc79dff-815c-478e-9b6b-5288c1f647dc",
      "cell_type": "code",
      "source": "",
      "metadata": {
        "trusted": true
      },
      "outputs": [],
      "execution_count": null
    }
  ]
}