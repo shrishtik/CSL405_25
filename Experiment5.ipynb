{
  "metadata": {
    "kernelspec": {
      "name": "python",
      "display_name": "Python (Pyodide)",
      "language": "python"
    },
    "language_info": {
      "codemirror_mode": {
        "name": "python",
        "version": 3
      },
      "file_extension": ".py",
      "mimetype": "text/x-python",
      "name": "python",
      "nbconvert_exporter": "python",
      "pygments_lexer": "ipython3",
      "version": "3.8"
    }
  },
  "nbformat_minor": 5,
  "nbformat": 4,
  "cells": [
    {
      "id": "b70a6471-30dc-435e-a266-970131e671ca",
      "cell_type": "markdown",
      "source": "#### Shrishti Kewat 25",
      "metadata": {}
    },
    {
      "id": "f5756bf3-3bfd-421e-b22d-1a639ad55b48",
      "cell_type": "code",
      "source": "class StackDepth:\n    def maximumDepth(self, stringInput: str) -> int:\n        max_depth = 0\n        current_depth = 0\n\n        # Iterate through each character in the string\n        for char in stringInput:\n            if char == '(':\n                # Increase the depth when we encounter an opening parenthesis\n                current_depth += 1\n                # Update the maximum depth\n                max_depth = max(max_depth, current_depth)\n            elif char == ')':\n                # Decrease the depth when we encounter a closing parenthesis\n                current_depth -= 1\n        \n        return max_depth\n\n# Example usage:\nstack_depth = StackDepth()\n\n# Example 1:\ns = \"(1+(2*3)+((8)/4))+1\"\nprint(stack_depth.maximumDepth(s))  # Output: 3\n\n# Example 2:\ns = \"(1)+((2))+(((3)))\"\nprint(stack_depth.maximumDepth(s))  # Output: 3\n\n# Example 3:\ns = \"()(())((()()))\"\nprint(stack_depth.maximumDepth(s))  # Output: 3\n",
      "metadata": {
        "trusted": true
      },
      "outputs": [
        {
          "name": "stdout",
          "output_type": "stream",
          "text": "3\n3\n3\n"
        }
      ],
      "execution_count": 1
    },
    {
      "id": "01c3014d-448e-4f8f-b800-0e9b6481971f",
      "cell_type": "code",
      "source": "",
      "metadata": {
        "trusted": true
      },
      "outputs": [],
      "execution_count": null
    }
  ]
}